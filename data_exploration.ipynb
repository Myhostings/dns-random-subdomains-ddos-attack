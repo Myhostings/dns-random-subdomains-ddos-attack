{
 "cells": [
  {
   "cell_type": "code",
   "execution_count": 6,
   "metadata": {
    "collapsed": true,
    "pycharm": {
     "is_executing": false
    }
   },
   "outputs": [
    {
     "name": "stdout",
     "text": [
      "+---------------+------------------+\n|         domain|distinct_subdomain|\n+---------------+------------------+\n|   blogspot.com|           9534421|\n|  wordpress.com|           5562462|\n|      home.blog|           2526296|\n|    skyrock.com|           2060336|\n| deviantart.com|            946580|\n|  herokuapp.com|            849595|\n|        fc2.com|            823218|\n|     weebly.com|            680945|\n|livejournal.com|            637255|\n|     lofter.com|            415571|\n|  myshopify.com|            376913|\n| cloudflare.net|            345711|\n|filetransit.com|            328810|\n|    wixsite.com|            325492|\n|  amazonaws.com|            311323|\n|    soft112.com|            299266|\n|      jimdo.com|            283252|\n|list-manage.com|            245873|\n|        wix.com|            216419|\n|      food.blog|            185435|\n+---------------+------------------+\nonly showing top 20 rows\n\n"
     ],
     "output_type": "stream"
    }
   ],
   "source": [
    "from pyspark.sql import SparkSession\n",
    "spark = SparkSession.builder.appName('test').getOrCreate()\n",
    "df = spark.read.csv('data/dns-requests.csv', mode=\"DROPMALFORMED\",inferSchema=True, header = True)\n",
    "df.createOrReplaceTempView(\"dns_requests\")\n",
    "distinct_subdomain_dns_requests_df = spark.sql(\"Select domain, count(distinct subdomain) as distinct_subdomain from dns_requests group by domain order by distinct_subdomain desc\")\n",
    "distinct_subdomain_dns_requests_df.show()"
   ]
  },
  {
   "cell_type": "code",
   "execution_count": 21,
   "outputs": [
    {
     "name": "stdout",
     "text": [
      "+------------------+-----------------+\n|distinct_subdomain|number_of_domains|\n+------------------+-----------------+\n|                 1|         26579476|\n|                 2|          8253665|\n|                 3|          1806222|\n|                 4|           380888|\n|                 5|           309303|\n|                 6|           137974|\n|                 7|            84384|\n|                 8|            47066|\n|                 9|            35106|\n|                10|            24681|\n|                11|            21907|\n|                12|            16477|\n|                13|            18081|\n|                14|            13763|\n|                15|            14579|\n|                16|             9517|\n|                17|             8475|\n|                18|             6458|\n|                19|             6771|\n|                20|             6569|\n+------------------+-----------------+\nonly showing top 20 rows\n\n"
     ],
     "output_type": "stream"
    }
   ],
   "source": [
    "distinct_subdomain_dns_requests_df.createOrReplaceTempView(\"distinct_dns_requests\")\n",
    "distinct_subdomain_histogram = spark.sql(\"Select distinct_subdomain, count(domain) as number_of_domains from distinct_dns_requests group by distinct_subdomain order by distinct_subdomain asc\")\n",
    "distinct_subdomain_histogram.show()"
   ],
   "metadata": {
    "collapsed": false,
    "pycharm": {
     "name": "#%%\n",
     "is_executing": false
    }
   }
  },
  {
   "cell_type": "code",
   "execution_count": 22,
   "outputs": [
    {
     "data": {
      "text/plain": "      distinct_subdomain  number_of_domains\n0                      1           26579476\n1                      2            8253665\n2                      3            1806222\n3                      4             380888\n4                      5             309303\n...                  ...                ...\n3208              946580                  1\n3209             2060336                  1\n3210             2526296                  1\n3211             5562462                  1\n3212             9534421                  1\n\n[3213 rows x 2 columns]",
      "text/html": "<div>\n<style scoped>\n    .dataframe tbody tr th:only-of-type {\n        vertical-align: middle;\n    }\n\n    .dataframe tbody tr th {\n        vertical-align: top;\n    }\n\n    .dataframe thead th {\n        text-align: right;\n    }\n</style>\n<table border=\"1\" class=\"dataframe\">\n  <thead>\n    <tr style=\"text-align: right;\">\n      <th></th>\n      <th>distinct_subdomain</th>\n      <th>number_of_domains</th>\n    </tr>\n  </thead>\n  <tbody>\n    <tr>\n      <td>0</td>\n      <td>1</td>\n      <td>26579476</td>\n    </tr>\n    <tr>\n      <td>1</td>\n      <td>2</td>\n      <td>8253665</td>\n    </tr>\n    <tr>\n      <td>2</td>\n      <td>3</td>\n      <td>1806222</td>\n    </tr>\n    <tr>\n      <td>3</td>\n      <td>4</td>\n      <td>380888</td>\n    </tr>\n    <tr>\n      <td>4</td>\n      <td>5</td>\n      <td>309303</td>\n    </tr>\n    <tr>\n      <td>...</td>\n      <td>...</td>\n      <td>...</td>\n    </tr>\n    <tr>\n      <td>3208</td>\n      <td>946580</td>\n      <td>1</td>\n    </tr>\n    <tr>\n      <td>3209</td>\n      <td>2060336</td>\n      <td>1</td>\n    </tr>\n    <tr>\n      <td>3210</td>\n      <td>2526296</td>\n      <td>1</td>\n    </tr>\n    <tr>\n      <td>3211</td>\n      <td>5562462</td>\n      <td>1</td>\n    </tr>\n    <tr>\n      <td>3212</td>\n      <td>9534421</td>\n      <td>1</td>\n    </tr>\n  </tbody>\n</table>\n<p>3213 rows × 2 columns</p>\n</div>"
     },
     "metadata": {},
     "output_type": "execute_result",
     "execution_count": 22
    }
   ],
   "source": [
    "distinct_subdomain_histogram_pd = distinct_subdomain_histogram.toPandas()\n",
    "distinct_subdomain_histogram_pd"
   ],
   "metadata": {
    "collapsed": false,
    "pycharm": {
     "name": "#%%\n",
     "is_executing": false
    }
   }
  },
  {
   "cell_type": "code",
   "execution_count": 28,
   "outputs": [
    {
     "name": "stderr",
     "text": [
      "'c' argument looks like a single numeric RGB or RGBA sequence, which should be avoided as value-mapping will have precedence in case its length matches with 'x' & 'y'.  Please use a 2-D array with a single row if you really want to specify the same RGB or RGBA value for all points.\n"
     ],
     "output_type": "stream"
    },
    {
     "data": {
      "text/plain": "<Figure size 432x288 with 1 Axes>",
      "image/png": "[encoded data removed]"
     },
     "metadata": {},
     "output_type": "display_data"
    }
   ],
   "source": [
    "import matplotlib.pyplot as plt\n",
    "distinct_subdomain_histogram_pd.plot(x='distinct_subdomain', y='number_of_domains',  kind = 'scatter')\n",
    "plt.show()"
   ],
   "metadata": {
    "collapsed": false,
    "pycharm": {
     "name": "#%%\n",
     "is_executing": false
    }
   }
  },
  {
   "cell_type": "code",
   "execution_count": null,
   "outputs": [],
   "source": [
    "## stream the all elements and ingest them with our dwsHH algorithm\n",
    "from smart_open import open\n",
    "from algorithm import DistinctHeavyHitter\n",
    "dwsHH = DistinctHeavyHitter(k=1000)\n",
    "first_run = True\n",
    "for line in open('data/dns-requests.csv.gz'):\n",
    "    if first_run:\n",
    "        first_run = False\n",
    "        continue\n",
    "    values = line.rstrip().split(',')\n",
    "    if(len(values)==2):\n",
    "        subdomain, domain = values\n",
    "        dwsHH.ingest(subdomain, domain)"
   ],
   "metadata": {
    "collapsed": false,
    "pycharm": {
     "name": "#%%\n"
    }
   }
  },
  {
   "cell_type": "code",
   "execution_count": null,
   "outputs": [],
   "source": [
    "dwsHH.get()\n",
    "\n"
   ],
   "metadata": {
    "collapsed": false,
    "pycharm": {
     "name": "#%%\n"
    }
   }
  },
  {
   "cell_type": "code",
   "execution_count": null,
   "outputs": [],
   "source": [
    "all = []\n",
    "for item in dwsHH.get():\n",
    "    if item[2] > 0.7:\n",
    "        all.append((item[0], item[1]))\n",
    "sorted_by_second = sorted(all, key=lambda tup: tup[1], reverse=True)\n",
    "for item in sorted_by_second:\n",
    "    print(\"%s: %s\" % (item[0], item[1]))\n"
   ],
   "metadata": {
    "collapsed": false,
    "pycharm": {
     "name": "#%%\n"
    }
   }
  },
  {
   "cell_type": "code",
   "execution_count": null,
   "outputs": [],
   "source": [
    "## stream the all elements and ingest them with our dwsHH algorithm\n",
    "from smart_open import open\n",
    "from algorithm import DistinctHeavyHitter\n",
    "dwsHH = DistinctHeavyHitter(k=500)\n",
    "first_run = True\n",
    "for line in open('data/dns-requests.csv.gz'):\n",
    "    if first_run:\n",
    "        first_run = False\n",
    "        continue\n",
    "    values = line.rstrip().split(',')\n",
    "    if(len(values)==2):\n",
    "        subdomain, domain = values\n",
    "        dwsHH.ingest(subdomain, domain)"
   ],
   "metadata": {
    "collapsed": false,
    "pycharm": {
     "name": "#%%\n",
     "is_executing": true
    }
   }
  },
  {
   "cell_type": "code",
   "execution_count": null,
   "outputs": [],
   "source": [
    "dwsHH.get()\n",
    "\n"
   ],
   "metadata": {
    "collapsed": false,
    "pycharm": {
     "name": "#%%\n",
     "is_executing": true
    }
   }
  },
  {
   "cell_type": "code",
   "execution_count": null,
   "outputs": [],
   "source": [
    "all = []\n",
    "for item in dwsHH.get():\n",
    "    if item[2] > 0.7:\n",
    "        all.append((item[0], item[1]))\n",
    "sorted_by_second = sorted(all, key=lambda tup: tup[1], reverse=True)\n",
    "for item in sorted_by_second:\n",
    "    print(\"%s: %s\" % (item[0], item[1]))\n"
   ],
   "metadata": {
    "collapsed": false,
    "pycharm": {
     "name": "#%%\n",
     "is_executing": true
    }
   }
  },
  {
   "cell_type": "code",
   "execution_count": null,
   "outputs": [],
   "source": [
    "## stream the all elements and ingest them with our dwsHH algorithm\n",
    "from smart_open import open\n",
    "from algorithm import DistinctHeavyHitter\n",
    "dwsHH = DistinctHeavyHitter(k=2000)\n",
    "first_run = True\n",
    "for line in open('data/dns-requests.csv.gz'):\n",
    "    if first_run:\n",
    "        first_run = False\n",
    "        continue\n",
    "    values = line.rstrip().split(',')\n",
    "    if(len(values)==2):\n",
    "        subdomain, domain = values\n",
    "        dwsHH.ingest(subdomain, domain)"
   ],
   "metadata": {
    "collapsed": false,
    "pycharm": {
     "name": "#%%\n",
     "is_executing": true
    }
   }
  },
  {
   "cell_type": "code",
   "execution_count": null,
   "outputs": [],
   "source": [
    "dwsHH.get()\n",
    "\n"
   ],
   "metadata": {
    "collapsed": false,
    "pycharm": {
     "name": "#%%\n",
     "is_executing": true
    }
   }
  },
  {
   "cell_type": "code",
   "execution_count": null,
   "outputs": [],
   "source": [
    "all = []\n",
    "for item in dwsHH.get():\n",
    "    if item[2] > 0.7:\n",
    "        all.append((item[0], item[1]))\n",
    "sorted_by_second = sorted(all, key=lambda tup: tup[1], reverse=True)\n",
    "for item in sorted_by_second:\n",
    "    print(\"%s: %s\" % (item[0], item[1]))\n"
   ],
   "metadata": {
    "collapsed": false,
    "pycharm": {
     "name": "#%%\n",
     "is_executing": true
    }
   }
  },
  {
   "cell_type": "code",
   "execution_count": null,
   "outputs": [],
   "source": [
    "## stream the all elements and ingest them with our dwsHH algorithm\n",
    "from smart_open import open\n",
    "from algorithm import DistinctHeavyHitter\n",
    "dwsHH = DistinctHeavyHitter(k=5000)\n",
    "first_run = True\n",
    "for line in open('data/dns-requests.csv.gz'):\n",
    "    if first_run:\n",
    "        first_run = False\n",
    "        continue\n",
    "    values = line.rstrip().split(',')\n",
    "    if(len(values)==2):\n",
    "        subdomain, domain = values\n",
    "        dwsHH.ingest(subdomain, domain)"
   ],
   "metadata": {
    "collapsed": false,
    "pycharm": {
     "name": "#%%\n",
     "is_executing": true
    }
   }
  },
  {
   "cell_type": "code",
   "execution_count": null,
   "outputs": [],
   "source": [
    "dwsHH.get()\n",
    "\n",
    "\n"
   ],
   "metadata": {
    "collapsed": false,
    "pycharm": {
     "name": "#%%\n",
     "is_executing": true
    }
   }
  },
  {
   "cell_type": "code",
   "execution_count": null,
   "outputs": [],
   "source": [
    "all = []\n",
    "for item in dwsHH.get():\n",
    "    if item[2] > 0.7:\n",
    "        all.append((item[0], item[1]))\n",
    "sorted_by_second = sorted(all, key=lambda tup: tup[1], reverse=True)\n",
    "for item in sorted_by_second:\n",
    "    print(\"%s: %s\" % (item[0], item[1]))\n",
    "\n",
    "\n"
   ],
   "metadata": {
    "collapsed": false,
    "pycharm": {
     "name": "#%%\n",
     "is_executing": true
    }
   }
  },
  {
   "cell_type": "code",
   "execution_count": null,
   "outputs": [],
   "source": [
    "\n"
   ],
   "metadata": {
    "collapsed": false,
    "pycharm": {
     "name": "#%%\n"
    }
   }
  }
 ],
 "metadata": {
  "kernelspec": {
   "display_name": "Python 3",
   "language": "python",
   "name": "python3"
  },
  "language_info": {
   "codemirror_mode": {
    "name": "ipython",
    "version": 2
   },
   "file_extension": ".py",
   "mimetype": "text/x-python",
   "name": "python",
   "nbconvert_exporter": "python",
   "pygments_lexer": "ipython2",
   "version": "2.7.6"
  },
  "pycharm": {
   "stem_cell": {
    "cell_type": "raw",
    "source": [],
    "metadata": {
     "collapsed": false
    }
   }
  }
 },
 "nbformat": 4,
 "nbformat_minor": 0
}